{
 "cells": [
  {
   "cell_type": "code",
   "execution_count": null,
   "metadata": {},
   "outputs": [],
   "source": [
    "import pandas as pd\n",
    "import numpy as np\n",
    "from keras.models import Sequential,Model\n",
    "from keras.layers import Dense, Dropout, Activation, Flatten, LSTM, TimeDistributed, RepeatVector,Embedding,concatenate,Input\n",
    "from keras.layers.normalization import BatchNormalization\n",
    "from keras.optimizers import Adam\n",
    "from keras.callbacks import EarlyStopping, ModelCheckpoint\n",
    "import matplotlib.pyplot as plt\n",
    "import joblib\n",
    "import multiprocessing\n",
    "from keras import backend as K\n",
    "from sklearn.model_selection import train_test_split\n",
    "from sklearn.metrics import f1_score\n",
    "from data_tool import label_encode,label_decode,eachAccu\n",
    "from sklearn.preprocessing import LabelEncoder\n",
    "import tensorflow as tf\n",
    "import os\n",
    "os.environ[\"CUDA_VISIBLE_DEVICES\"] = \"1\"\n",
    "\n",
    "seed =999\n",
    "fea_dim = '2368' # 512/2048/2368/832\n",
    "fea_type = 'BOW'\n",
    "X = joblib.load('./fea_sel/{}/{}_train-{}.pkl'.format(fea_type,fea_type.lower(),fea_dim))\n",
    "hashtag = [] \n",
    "label = joblib.load('./fea_sel/label/label8.pkl')\n",
    "label_encoder = LabelEncoder()\n",
    "label_encoder.fit(label)\n",
    "y = label_encode(label_encoder,label)\n",
    "NUM_CLASSES = 8\n",
    "NUM_LSTM_UNITS = 128 #output dimension of lstm \n",
    "max_features = 2368\n",
    "x_train,x_valid,y_train,y_valid = train_test_split(X,y, random_state =seed,test_size = 0.2 )\n",
    "BZ= [512]"
   ]
  },
  {
   "cell_type": "code",
   "execution_count": null,
   "metadata": {},
   "outputs": [],
   "source": [
    "def lstm(x_train,y_train,x_valid,y_valid,max_features,bz):\n",
    "    # K.tensorflow_backend._get_available_gpus()\n",
    "    # cfg = tf.ConfigProto()\n",
    "    # cfg.gpu_options.allow_growth = True\n",
    "    # with tf.device('/gpu:1'):\n",
    "    #     with tf.Session(config = cfg) as sess:       \n",
    "    model = Sequential()\n",
    "    # model.add(Input((X.shape[1],),sparse = True))\n",
    "    model.add(Embedding(max_features, 128))\n",
    "    model.add(LSTM(128, input_shape = (X.shape[1],),return_sequences=True)) #dropout=0.2, recurrent_dropout=0.2,\n",
    "    model.add(Dropout(0.4))\n",
    "    model.add(LSTM(16, activation='tanh'))\n",
    "    model.add(Dropout(0.4))\n",
    "    model.add(Dense(8, activation='softmax'))\n",
    "\n",
    "    model.compile(loss='categorical_crossentropy',\n",
    "                  optimizer='adam',\n",
    "                  metrics=['accuracy'])\n",
    "    model.summary()\n",
    "    return model"
   ]
  },
  {
   "cell_type": "code",
   "execution_count": null,
   "metadata": {},
   "outputs": [],
   "source": [
    "for bz in BZ:\n",
    "    # pool = multiprocessing.Pool(processes=16)\n",
    "    epo=10\n",
    "    model = lstm(x_train,y_train,x_valid,y_valid,max_features,bz)\n",
    "    print('Train...')\n",
    "    model.fit(x_train, y_train,\n",
    "              batch_size=bz,\n",
    "              epochs=epo,\n",
    "              validation_data=(x_valid, y_valid))\n",
    "    score, acc = model.evaluate(x_valid, y_valid,batch_size=bz)   \n",
    "    # sess = tf.Session(config=tf.ConfigProto(log_device_placement=True))\n",
    "    # sess.run()\n",
    "    #=================== TEST DATA===============================\n",
    "    '''\n",
    "    pred = model.predict(test_data)\n",
    "    pred = label_encode(label_encoder,pred)\n",
    "    gnd = label_encode(label_encoder,y_valid)\n",
    "    \n",
    "    f1_list = eachAccu(gnd,pred)\n",
    "    f1_overall = f1_score(pred,gnd,average='micro')\n",
    "    print('\\nf1_overall:{:.4}'.format(f1_overall))\n",
    "    cm = confusion_matrix(gnd, pred)\n",
    "    plot_confusion_matrix(cm , class_names=['sadness' ,'disgust' ,'anticipation', 'joy' ,'trust' ,'anger', 'fear','surprise'])\n",
    "    test_data = joblib.load('./fea_sel/BOW/bow_test-2368.pkl')\n",
    "    '''"
   ]
  }
 ],
 "metadata": {
  "kernelspec": {
   "display_name": "Python 3",
   "language": "python",
   "name": "python3"
  },
  "language_info": {
   "codemirror_mode": {
    "name": "ipython",
    "version": 3
   },
   "file_extension": ".py",
   "mimetype": "text/x-python",
   "name": "python",
   "nbconvert_exporter": "python",
   "pygments_lexer": "ipython3",
   "version": "3.7.4"
  }
 },
 "nbformat": 4,
 "nbformat_minor": 2
}
