{
 "cells": [
  {
   "cell_type": "code",
   "execution_count": null,
   "metadata": {},
   "outputs": [],
   "source": [
    "import joblib\n",
    "import torch \n",
    "import numpy as np\n",
    "import pandas as pd\n",
    "from torch.utils.data import Dataset\n",
    "from torch.utils.data import DataLoader\n",
    "from torch.utils.data.dataloader import default_collate\n",
    "from scipy.sparse import coo_matrix"
   ]
  },
  {
   "cell_type": "code",
   "execution_count": null,
   "metadata": {},
   "outputs": [],
   "source": [
    "class dataSet():\n",
    "    def __init__(self,feature,dim,idex,train = True):\n",
    "        self.fea_name = feature\n",
    "        tmp = []\n",
    "        for i in idex:\n",
    "            tmp.append(int(i))\n",
    "        self.dim = dim\n",
    "        self.train =train\n",
    "        self.idex=tmp\n",
    "        self.trainpath = './fea_sel/{}/{}_train-{}.pkl'.format(self.fea_name,self.fea_name.lower(),self.dim)\n",
    "        self.testpath = './fea_sel/{}/{}_test-{}.pkl'.format(self.fea_name,self.fea_name.lower(),self.dim)\n",
    "        labpath = './fea_sel/label/label8.pkl'\n",
    "        self.label = joblib.load(labpath).iloc[self.idex]\n",
    "        self.IDbank = pd.read_csv('/homes/yalin/Kaggle/trainData/emotion.csv')['tweet_id'][self.idex]\n",
    "    def __len__(self):\n",
    "        if self.train:\n",
    "            self.bank = joblib.load(self.trainpath).toarray()\n",
    "            self.bank = self.bank[self.idex]\n",
    "            length = self.bank.shape[0]\n",
    "        else:\n",
    "            self.bank = joblib.load(self.testpath).toarray()\n",
    "            length = self.bank.shape[0]\n",
    "        return length\n",
    "    def __getitem__(self,idx):\n",
    "        coo = coo_matrix(self.bank[idx,:])\n",
    "        values = coo.data\n",
    "        indices = np.vstack((coo.row, coo.col))\n",
    "        \n",
    "        i = torch.LongTensor(indices)\n",
    "        v = torch.LongTensor(values)\n",
    "        shape = coo.shape\n",
    "\n",
    "        fea = torch.sparse.LongTensor(i, v, torch.Size(shape)).to_dense()\n",
    "        \n",
    "        label = torch.tensor( int(self.label.iloc[idx]))\n",
    "        ID = self.IDbank.iloc[idx]\n",
    "        return fea,label,ID"
   ]
  },
  {
   "cell_type": "code",
   "execution_count": null,
   "metadata": {},
   "outputs": [],
   "source": [
    "class data_prefetcher():\n",
    "    def __init__(self, loader):\n",
    "        self.loader = iter(loader)\n",
    "        # self.stream = torch.cuda.Stream()\n",
    "        self.preload()\n",
    "\n",
    "    def preload(self):\n",
    "        try:\n",
    "            self.next_data = next(self.loader)\n",
    "        except StopIteration:\n",
    "            self.next_input = None\n",
    "#            print('preload stop iteration')\n",
    "            return\n",
    "        # with torch.cuda.stream(self.stream):\n",
    "        #     self.next_data = self.next_data.cuda(non_blocking=True)\n",
    "            \n",
    "    def next(self):\n",
    "        # torch.cuda.current_stream().wait_stream(self.stream)\n",
    "        data = self.next_data\n",
    "        self.preload()\n",
    "        return data   "
   ]
  }
 ],
 "metadata": {
  "kernelspec": {
   "display_name": "Python 3",
   "language": "python",
   "name": "python3"
  },
  "language_info": {
   "codemirror_mode": {
    "name": "ipython",
    "version": 3
   },
   "file_extension": ".py",
   "mimetype": "text/x-python",
   "name": "python",
   "nbconvert_exporter": "python",
   "pygments_lexer": "ipython3",
   "version": "3.7.4"
  }
 },
 "nbformat": 4,
 "nbformat_minor": 2
}
